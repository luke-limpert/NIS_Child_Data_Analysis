{
 "cells": [
  {
   "cell_type": "markdown",
   "metadata": {},
   "source": [
    "Question 1\n",
    "Write a function called proportion_of_education which returns the proportion of children in the dataset who had a mother with the education levels equal to less than high school (<12), high school (12), more than high school but not a college graduate (>12) and college degree.\n",
    "\n",
    "This function should return a dictionary in the form of (use the correct numbers, do not round numbers):\n",
    "\n",
    "    {\"less than high school\":0.2,\n",
    "    \"high school\":0.4,\n",
    "    \"more than high school but not college\":0.2,\n",
    "    \"college\":0.2}"
   ]
  },
  {
   "cell_type": "code",
   "execution_count": 83,
   "metadata": {},
   "outputs": [],
   "source": [
    "#df = pd.read_csv(C:/Users/limpertl/Documents/Jupyter Notebooks/assignments/assignment2/assests/NISPUF17.csv)"
   ]
  },
  {
   "cell_type": "code",
   "execution_count": 100,
   "metadata": {},
   "outputs": [
    {
     "data": {
      "text/plain": [
       "{'less than high school': 0.10202002459160373,\n",
       " 'high school': 0.172352011241876,\n",
       " 'more than high school but not college': 0.24588090637625154,\n",
       " 'college': 0.47974705779026877}"
      ]
     },
     "execution_count": 100,
     "metadata": {},
     "output_type": "execute_result"
    }
   ],
   "source": [
    "def proportion_of_education():\n",
    "    import pandas as pd\n",
    "\n",
    "    df = pd.read_csv('C:/Users/limpertl/Documents/Jupyter Notebooks/assignments/assignment2/assests/NISPUF17.csv')\n",
    "    columns_to_keep = ['EDUC1']\n",
    "    df = df[columns_to_keep]\n",
    "    Total = df.count()\n",
    "    \n",
    "    #Boolean Masks\n",
    "    LTHS_Mask = df['EDUC1']==1\n",
    "    HS_Mask = df['EDUC1']==2\n",
    "    MTHSBNC_Mask = df['EDUC1']==3\n",
    "    Coll_Mask = df['EDUC1']==4\n",
    "    \n",
    "    #less than high school                 \n",
    "    LTHS_Calc = df.where(LTHS_Mask).dropna().count()\n",
    "    \n",
    "    #High School\n",
    "    HS_Calc = df.where(HS_Mask).dropna().count()\n",
    "    \n",
    "    #More than high school but not college\n",
    "    MTHSBNC_Calc = df.where(MTHSBNC_Mask).dropna().count()\n",
    "    \n",
    "    #college\n",
    "    Coll_Calc = df.where(Coll_Mask).dropna().count()\n",
    "    \n",
    "    Total = LTHS_Calc + HS_Calc + MTHSBNC_Calc + Coll_Calc\n",
    "    \n",
    "    LTHS_Final = float(LTHS_Calc/Total)\n",
    "    HS_Final = float(HS_Calc/Total)\n",
    "    MTHSBNC_Final = float(MTHSBNC_Calc/Total)\n",
    "    Coll_Final = float(Coll_Calc/Total)\n",
    "    \n",
    "    educ = {'less than high school':LTHS_Final,\n",
    "                'high school':HS_Final,\n",
    "                'more than high school but not college':MTHSBNC_Final,\n",
    "                'college':Coll_Final\n",
    "               }\n",
    "    return educ\n",
    "\n",
    "    raise NotImplementedError()\n",
    "proportion_of_education()"
   ]
  },
  {
   "cell_type": "markdown",
   "metadata": {},
   "source": [
    "Question 2\n",
    "Let's explore the relationship between being fed breastmilk as a child and getting a seasonal influenza vaccine from a healthcare provider. Return a tuple of the average number of influenza vaccines for those children we know received breastmilk as a child and those who know did not.\n",
    "\n",
    "This function should return a tuple in the form (use the correct numbers:\n",
    "\n",
    "(2.5, 0.1)"
   ]
  },
  {
   "cell_type": "code",
   "execution_count": 99,
   "metadata": {},
   "outputs": [
    {
     "data": {
      "text/plain": [
       "(1.8799187420058687, 1.5963945918878317)"
      ]
     },
     "execution_count": 99,
     "metadata": {},
     "output_type": "execute_result"
    }
   ],
   "source": [
    "import pandas as pd\n",
    "\n",
    "def average_influenza_doses():    \n",
    "    df = pd.read_csv('C:/Users/limpertl/Documents/Jupyter Notebooks/assignments/assignment2/assests/NISPUF17.csv')\n",
    "    columns_to_keep = ['CBF_01','P_NUMFLU']\n",
    "    df = df[columns_to_keep]\n",
    "    total = df.count()\n",
    "    #Breast Fed\n",
    "\n",
    "    BreastFed = df.where(df['CBF_01'] == 1).dropna().count()\n",
    "    BreastFed_Vacc = df.where(df['CBF_01'] == 1).dropna().sum()\n",
    "\n",
    "    #calc\n",
    "\n",
    "    BF_Final = BreastFed_Vacc['P_NUMFLU']/BreastFed['CBF_01']\n",
    "\n",
    "    #Not Breast Fed\n",
    "\n",
    "    NBF = df.where(df['CBF_01']== 2).dropna().count()\n",
    "    NBF_Vacc = df.where(df['CBF_01'] == 2).dropna().sum()\n",
    "\n",
    "    #calc\n",
    "\n",
    "    NBF_Final = NBF_Vacc['P_NUMFLU']/NBF['CBF_01']\n",
    "\n",
    "    return(BF_Final,NBF_Final)\n",
    "average_influenza_doses()"
   ]
  },
  {
   "cell_type": "markdown",
   "metadata": {},
   "source": [
    "It would be interesting to see if there is any evidence of a link between vaccine effectiveness and sex of the child. Calculate the ratio of the number of children who contracted chickenpox but were vaccinated against it (at least one varicella dose) versus those who were vaccinated but did not contract chicken pox. Return results by sex.\n",
    "\n",
    "This function should return a dictionary in the form of (use the correct numbers):\n",
    "\n",
    "    {\"male\":0.2,\n",
    "    \"female\":0.4}\n",
    "Note: To aid in verification, the chickenpox_by_sex()['female'] value the autograder is looking for starts with the digits 0.0077."
   ]
  },
  {
   "cell_type": "code",
   "execution_count": 97,
   "metadata": {},
   "outputs": [
    {
     "data": {
      "text/plain": [
       "{'male': 0.009675583380762664, 'female': 0.0077918259335489565}"
      ]
     },
     "execution_count": 97,
     "metadata": {},
     "output_type": "execute_result"
    }
   ],
   "source": [
    "def chickenpox_by_sex():\n",
    "    df = pd.read_csv('C:/Users/limpertl/Documents/Jupyter Notebooks/assignments/assignment2/assests/NISPUF17.csv')\n",
    "    columns_to_keep = ['SEX','HAD_CPOX','P_NUMVRC']\n",
    "    df = df[columns_to_keep]\n",
    "    total = df.count()\n",
    "    #1 corresponds to male\n",
    "    #2 corresponds to female\n",
    "    #P_NUMVRC == 1 corresponds to atleast 1 vaccine\n",
    "    #HAD_CPOX == 1 corresponds to the contraction of Chicken Pox\n",
    "    #Calc should look something like this -\n",
    "    #df.where((['SEX'] == 1) & (['HAD_CPOX'] == 1) & ([P_NUMVRC] > 0.0))\n",
    "    #DIVIDED BY\n",
    "    #df.where({['SEX'] == 1} & (['HAD_CPOX'] == 2) & ([P_NUMVRC] > 0.0)\n",
    "\n",
    "    female_CPOX = df.where((df['SEX'] == 2) & (df['HAD_CPOX'] == 1) & (df['P_NUMVRC'] > 0)).dropna().count()\n",
    "    female_NOCPOX = df.where((df['SEX'] == 2) & (df['HAD_CPOX'] == 2) & (df['P_NUMVRC'] > 0)).dropna().count()\n",
    "    female_Final = female_CPOX/female_NOCPOX\n",
    "    female_Final = float(female_Final['SEX'])\n",
    "    \n",
    "    male_CPOX = df.where((df['SEX'] == 1) & (df['HAD_CPOX'] == 1) & (df['P_NUMVRC'] > 0)).dropna().count()\n",
    "    male_NOCPOX = df.where((df['SEX'] == 1) & (df['HAD_CPOX'] == 2) & (df['P_NUMVRC'] > 0)).dropna().count()\n",
    "    male_Final = male_CPOX/male_NOCPOX\n",
    "    male_Final = float(male_Final['SEX'])\n",
    "    \n",
    "    CPOX_Stats = {'male':male_Final,\n",
    "                 'female':female_Final}\n",
    "    \n",
    "    return CPOX_Stats\n",
    "    \n",
    "    raise NotImplementedError()\n",
    "chickenpox_by_sex()"
   ]
  },
  {
   "cell_type": "markdown",
   "metadata": {},
   "source": [
    "A correlation is a statistical relationship between two variables. If we wanted to know if vaccines work, we might look at the correlation between the use of the vaccine and whether it results in prevention of the infection or disease [1]. In this question, you are to see if there is a correlation between having had the chicken pox and the number of chickenpox vaccine doses given (varicella).\n",
    "\n",
    "Some notes on interpreting the answer. The had_chickenpox_column is either 1 (for yes) or 2 (for no), and the num_chickenpox_vaccine_column is the number of doses a child has been given of the varicella vaccine. A positive correlation (e.g., corr > 0) means that an increase in had_chickenpox_column (which means more no’s) would also increase the values of num_chickenpox_vaccine_column (which means more doses of vaccine). If there is a negative correlation (e.g., corr < 0), it indicates that having had chickenpox is related to an increase in the number of vaccine doses.\n",
    "\n",
    "Also, pval is the probability that we observe a correlation between had_chickenpox_column and num_chickenpox_vaccine_column which is greater than or equal to a particular value occurred by chance. A small pval means that the observed correlation is highly unlikely to occur by chance. In this case, pval should be very small (will end in e-18 indicating a very small number).\n",
    "\n",
    "[1] This isn’t really the full picture, since we are not looking at when the dose was given. It’s possible that children had chickenpox and then their parents went to get them the vaccine. Does this dataset have the data we would need to investigate the timing of the dose?"
   ]
  },
  {
   "cell_type": "code",
   "execution_count": 96,
   "metadata": {},
   "outputs": [
    {
     "data": {
      "text/plain": [
       "0.07044873460147985"
      ]
     },
     "execution_count": 96,
     "metadata": {},
     "output_type": "execute_result"
    }
   ],
   "source": [
    "def corr_chickenpox():  \n",
    "    import scipy.stats as stats\n",
    "    import numpy as np\n",
    "    import pandas as pd\n",
    "    \n",
    "    # this is just an example dataframe\n",
    "    df = pd.read_csv('C:/Users/limpertl/Documents/Jupyter Notebooks/assignments/assignment2/assests/NISPUF17.csv')\n",
    "    df = df.where((df['HAD_CPOX'] <= 3)).loc[:,['HAD_CPOX','P_NUMVRC']].dropna()\n",
    "    df.columns = ['had_chickenpox_column','num_chickenpox_vaccine_column']\n",
    "    \n",
    "    # here is some stub code to actually run the correlation\n",
    "    corr, pval=stats.pearsonr(df[\"had_chickenpox_column\"],df[\"num_chickenpox_vaccine_column\"])\n",
    "    \n",
    "    return corr\n",
    "corr_chickenpox()"
   ]
  },
  {
   "cell_type": "code",
   "execution_count": null,
   "metadata": {},
   "outputs": [],
   "source": []
  }
 ],
 "metadata": {
  "kernelspec": {
   "display_name": "Python 3",
   "language": "python",
   "name": "python3"
  },
  "language_info": {
   "codemirror_mode": {
    "name": "ipython",
    "version": 3
   },
   "file_extension": ".py",
   "mimetype": "text/x-python",
   "name": "python",
   "nbconvert_exporter": "python",
   "pygments_lexer": "ipython3",
   "version": "3.7.6"
  }
 },
 "nbformat": 4,
 "nbformat_minor": 4
}
